{
 "cells": [
  {
   "cell_type": "code",
   "execution_count": 5,
   "id": "bc1004c9",
   "metadata": {},
   "outputs": [],
   "source": [
    "models = {'lr': 12,\n",
    "         'asd': 213,\n",
    "         'sadaw': 123}"
   ]
  },
  {
   "cell_type": "code",
   "execution_count": 21,
   "id": "76d078ff",
   "metadata": {},
   "outputs": [
    {
     "name": "stdout",
     "output_type": "stream",
     "text": [
      "12\n",
      "213\n",
      "123\n"
     ]
    }
   ],
   "source": [
    "\"\"\"\n",
    "if we convert dictionary in list using list() method then we only get the list of keys\n",
    "\"\"\"\n",
    "\n",
    "for i in range(0,len(models)):\n",
    "    print(list(models.values())[i])"
   ]
  },
  {
   "cell_type": "code",
   "execution_count": 28,
   "id": "cb65db1b",
   "metadata": {},
   "outputs": [],
   "source": [
    "score = max(models.values())"
   ]
  },
  {
   "cell_type": "code",
   "execution_count": 33,
   "id": "281e97ce",
   "metadata": {},
   "outputs": [],
   "source": [
    "best_model_name = [key for key,value in models.items() if value == score]\n",
    "        "
   ]
  },
  {
   "cell_type": "code",
   "execution_count": 34,
   "id": "f2a26242",
   "metadata": {},
   "outputs": [
    {
     "data": {
      "text/plain": [
       "['asd']"
      ]
     },
     "execution_count": 34,
     "metadata": {},
     "output_type": "execute_result"
    }
   ],
   "source": [
    "best_model_name"
   ]
  },
  {
   "cell_type": "code",
   "execution_count": null,
   "id": "aa571130",
   "metadata": {},
   "outputs": [],
   "source": []
  }
 ],
 "metadata": {
  "kernelspec": {
   "display_name": "Python 3 (ipykernel)",
   "language": "python",
   "name": "python3"
  },
  "language_info": {
   "codemirror_mode": {
    "name": "ipython",
    "version": 3
   },
   "file_extension": ".py",
   "mimetype": "text/x-python",
   "name": "python",
   "nbconvert_exporter": "python",
   "pygments_lexer": "ipython3",
   "version": "3.9.12"
  }
 },
 "nbformat": 4,
 "nbformat_minor": 5
}
